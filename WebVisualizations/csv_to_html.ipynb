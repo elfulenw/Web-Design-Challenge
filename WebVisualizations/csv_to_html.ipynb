{
 "cells": [
  {
   "cell_type": "code",
   "execution_count": 18,
   "metadata": {},
   "outputs": [],
   "source": [
    "# Import dependencies\n",
    "import pandas as pd\n",
    "import os"
   ]
  },
  {
   "cell_type": "code",
   "execution_count": 19,
   "metadata": {},
   "outputs": [],
   "source": [
    "# Read in csv file\n",
    "data = pd.read_csv('../Resources/cities.csv')"
   ]
  },
  {
   "cell_type": "code",
   "execution_count": 23,
   "metadata": {},
   "outputs": [
    {
     "data": {
      "text/html": [
       "<div>\n",
       "<style scoped>\n",
       "    .dataframe tbody tr th:only-of-type {\n",
       "        vertical-align: middle;\n",
       "    }\n",
       "\n",
       "    .dataframe tbody tr th {\n",
       "        vertical-align: top;\n",
       "    }\n",
       "\n",
       "    .dataframe thead th {\n",
       "        text-align: right;\n",
       "    }\n",
       "</style>\n",
       "<table border=\"1\" class=\"dataframe\">\n",
       "  <thead>\n",
       "    <tr style=\"text-align: right;\">\n",
       "      <th></th>\n",
       "      <th>City</th>\n",
       "      <th>Country</th>\n",
       "      <th>Lat</th>\n",
       "      <th>Max Temp</th>\n",
       "      <th>Humidity</th>\n",
       "      <th>Cloudiness</th>\n",
       "      <th>Wind Speed</th>\n",
       "    </tr>\n",
       "  </thead>\n",
       "  <tbody>\n",
       "    <tr>\n",
       "      <th>0</th>\n",
       "      <td>jacareacanga</td>\n",
       "      <td>BR</td>\n",
       "      <td>-6.22</td>\n",
       "      <td>89.60</td>\n",
       "      <td>62</td>\n",
       "      <td>0</td>\n",
       "      <td>6.93</td>\n",
       "    </tr>\n",
       "    <tr>\n",
       "      <th>1</th>\n",
       "      <td>kaitangata</td>\n",
       "      <td>NZ</td>\n",
       "      <td>-46.28</td>\n",
       "      <td>42.61</td>\n",
       "      <td>94</td>\n",
       "      <td>100</td>\n",
       "      <td>5.64</td>\n",
       "    </tr>\n",
       "    <tr>\n",
       "      <th>2</th>\n",
       "      <td>goulburn</td>\n",
       "      <td>AU</td>\n",
       "      <td>-34.75</td>\n",
       "      <td>44.32</td>\n",
       "      <td>91</td>\n",
       "      <td>20</td>\n",
       "      <td>10.11</td>\n",
       "    </tr>\n",
       "    <tr>\n",
       "      <th>3</th>\n",
       "      <td>lata</td>\n",
       "      <td>IN</td>\n",
       "      <td>30.78</td>\n",
       "      <td>59.89</td>\n",
       "      <td>89</td>\n",
       "      <td>76</td>\n",
       "      <td>0.94</td>\n",
       "    </tr>\n",
       "    <tr>\n",
       "      <th>4</th>\n",
       "      <td>chokurdakh</td>\n",
       "      <td>RU</td>\n",
       "      <td>70.62</td>\n",
       "      <td>32.17</td>\n",
       "      <td>88</td>\n",
       "      <td>0</td>\n",
       "      <td>2.95</td>\n",
       "    </tr>\n",
       "  </tbody>\n",
       "</table>\n",
       "</div>"
      ],
      "text/plain": [
       "           City Country    Lat  Max Temp  Humidity  Cloudiness  Wind Speed\n",
       "0  jacareacanga      BR  -6.22     89.60        62           0        6.93\n",
       "1    kaitangata      NZ -46.28     42.61        94         100        5.64\n",
       "2      goulburn      AU -34.75     44.32        91          20       10.11\n",
       "3          lata      IN  30.78     59.89        89          76        0.94\n",
       "4    chokurdakh      RU  70.62     32.17        88           0        2.95"
      ]
     },
     "execution_count": 23,
     "metadata": {},
     "output_type": "execute_result"
    }
   ],
   "source": [
    "# Convert to DataFrame\n",
    "data_df = pd.DataFrame(data)\n",
    "data_df = data_df[[\"City\", \"Country\", \"Lat\", \"Max Temp\",\"Humidity\", \"Cloudiness\", \"Wind Speed\"]]\n",
    "data_df.head()"
   ]
  },
  {
   "cell_type": "code",
   "execution_count": 24,
   "metadata": {},
   "outputs": [],
   "source": [
    "# save data to html\n",
    "data_df.to_html('../Resources/data.html', index=False)"
   ]
  },
  {
   "cell_type": "code",
   "execution_count": null,
   "metadata": {},
   "outputs": [],
   "source": []
  }
 ],
 "metadata": {
  "kernelspec": {
   "display_name": "Python 3",
   "language": "python",
   "name": "python3"
  },
  "language_info": {
   "codemirror_mode": {
    "name": "ipython",
    "version": 3
   },
   "file_extension": ".py",
   "mimetype": "text/x-python",
   "name": "python",
   "nbconvert_exporter": "python",
   "pygments_lexer": "ipython3",
   "version": "3.8.3"
  }
 },
 "nbformat": 4,
 "nbformat_minor": 4
}
